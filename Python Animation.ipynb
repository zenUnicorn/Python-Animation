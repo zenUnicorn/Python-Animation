{
 "cells": [
  {
   "cell_type": "markdown",
   "id": "835bb52f",
   "metadata": {},
   "source": [
    "# Python Animation"
   ]
  },
  {
   "cell_type": "code",
   "execution_count": 8,
   "id": "f93775ac",
   "metadata": {},
   "outputs": [
    {
     "data": {
      "text/html": [
       "<div>\n",
       "<style scoped>\n",
       "    .dataframe tbody tr th:only-of-type {\n",
       "        vertical-align: middle;\n",
       "    }\n",
       "\n",
       "    .dataframe tbody tr th {\n",
       "        vertical-align: top;\n",
       "    }\n",
       "\n",
       "    .dataframe thead th {\n",
       "        text-align: right;\n",
       "    }\n",
       "</style>\n",
       "<table border=\"1\" class=\"dataframe\">\n",
       "  <thead>\n",
       "    <tr style=\"text-align: right;\">\n",
       "      <th></th>\n",
       "      <th>country</th>\n",
       "      <th>continent</th>\n",
       "      <th>year</th>\n",
       "      <th>lifeExp</th>\n",
       "      <th>pop</th>\n",
       "      <th>gdpPercap</th>\n",
       "    </tr>\n",
       "  </thead>\n",
       "  <tbody>\n",
       "    <tr>\n",
       "      <th>0</th>\n",
       "      <td>Afghanistan</td>\n",
       "      <td>Asia</td>\n",
       "      <td>1952</td>\n",
       "      <td>28.801</td>\n",
       "      <td>8425333</td>\n",
       "      <td>779.445314</td>\n",
       "    </tr>\n",
       "    <tr>\n",
       "      <th>1</th>\n",
       "      <td>Afghanistan</td>\n",
       "      <td>Asia</td>\n",
       "      <td>1957</td>\n",
       "      <td>30.332</td>\n",
       "      <td>9240934</td>\n",
       "      <td>820.853030</td>\n",
       "    </tr>\n",
       "    <tr>\n",
       "      <th>2</th>\n",
       "      <td>Afghanistan</td>\n",
       "      <td>Asia</td>\n",
       "      <td>1962</td>\n",
       "      <td>31.997</td>\n",
       "      <td>10267083</td>\n",
       "      <td>853.100710</td>\n",
       "    </tr>\n",
       "    <tr>\n",
       "      <th>3</th>\n",
       "      <td>Afghanistan</td>\n",
       "      <td>Asia</td>\n",
       "      <td>1967</td>\n",
       "      <td>34.020</td>\n",
       "      <td>11537966</td>\n",
       "      <td>836.197138</td>\n",
       "    </tr>\n",
       "    <tr>\n",
       "      <th>4</th>\n",
       "      <td>Afghanistan</td>\n",
       "      <td>Asia</td>\n",
       "      <td>1972</td>\n",
       "      <td>36.088</td>\n",
       "      <td>13079460</td>\n",
       "      <td>739.981106</td>\n",
       "    </tr>\n",
       "  </tbody>\n",
       "</table>\n",
       "</div>"
      ],
      "text/plain": [
       "       country continent  year  lifeExp       pop   gdpPercap\n",
       "0  Afghanistan      Asia  1952   28.801   8425333  779.445314\n",
       "1  Afghanistan      Asia  1957   30.332   9240934  820.853030\n",
       "2  Afghanistan      Asia  1962   31.997  10267083  853.100710\n",
       "3  Afghanistan      Asia  1967   34.020  11537966  836.197138\n",
       "4  Afghanistan      Asia  1972   36.088  13079460  739.981106"
      ]
     },
     "execution_count": 8,
     "metadata": {},
     "output_type": "execute_result"
    }
   ],
   "source": [
    "from gapminder import gapminder\n",
    "gapminder.head()"
   ]
  },
  {
   "cell_type": "code",
   "execution_count": 12,
   "id": "568fe881",
   "metadata": {},
   "outputs": [
    {
     "data": {
      "image/png": "[encoded data removed]",
      "text/plain": [
       "<Figure size 432x288 with 1 Axes>"
      ]
     },
     "metadata": {
      "needs_background": "light"
     },
     "output_type": "display_data"
    }
   ],
   "source": [
    "from matplotlib import animation\n",
    "import matplotlib.pyplot as plt\n",
    "\n",
    "countries_plot = ['Spain', 'Italy', 'United States']\n",
    "linechart_plot = gapminder.loc[gapminder['country'].isin(countries_plot), :]\n",
    "\n",
    "# Define colors\n",
    "colors = ['red', 'green', 'blue']\n",
    "\n",
    "fig, ax = plt.subplots()\n",
    "\n",
    "def update_linechart(i):\n",
    "  for j in range(len(colors)):\n",
    "    country = countries_plot[j]\n",
    "    color = colors[j]\n",
    "\n",
    "    data = linechart_plot.loc[linechart_plot['country'] == country,:]\n",
    "    ax.plot(data.year[:i], data.gdpPercap[:i], color)"
   ]
  },
  {
   "cell_type": "code",
   "execution_count": 13,
   "id": "f5d8570e",
   "metadata": {},
   "outputs": [
    {
     "name": "stderr",
     "output_type": "stream",
     "text": [
      "MovieWriter ffmpeg unavailable; using Pillow instead.\n"
     ]
    }
   ],
   "source": [
    "num_frames = len(linechart_plot['year'].unique())        \n",
    "anim = animation.FuncAnimation(fig, update_linechart, frames = num_frames)\n",
    "anim.save('linechart.gif')"
   ]
  },
  {
   "cell_type": "code",
   "execution_count": 19,
   "id": "e7c72dd7",
   "metadata": {},
   "outputs": [
    {
     "data": {
      "image/png": "[encoded data removed]",
      "text/plain": [
       "<Figure size 720x360 with 1 Axes>"
      ]
     },
     "metadata": {
      "needs_background": "light"
     },
     "output_type": "display_data"
    }
   ],
   "source": [
    "countries_plot = ['Spain', 'Italy', 'United States','Ireland','China']\n",
    "barchart_data  = gapminder.loc[gapminder['country'].isin(countries_plot), :]\n",
    "\n",
    "font = {\n",
    "    'weight': 'normal',\n",
    "    'size'  :  40,\n",
    "    'color': 'lightgray'\n",
    "}\n",
    "\n",
    "colors =['#FF0000','#169b62','#008c45','#aa151b','#002868']\n",
    "\n",
    "data_temp = barchart_data.loc[barchart_data['year'] == 2007, :]\n",
    "\n",
    "fig, ax = plt.subplots(figsize=(10, 5))\n",
    "ax.clear()\n",
    "ax.barh(data_temp.country,data_temp.gdpPercap, color = colors)\n",
    "\n",
    "ax.text(0.95, 0.2, data_temp['year'].iloc[0],\n",
    "        horizontalalignment='right',\n",
    "        verticalalignment='top',\n",
    "        transform=ax.transAxes,\n",
    "       fontdict=font)\n",
    "plt.show()"
   ]
  },
  {
   "cell_type": "code",
   "execution_count": 20,
   "id": "e86a32b9",
   "metadata": {},
   "outputs": [
    {
     "name": "stderr",
     "output_type": "stream",
     "text": [
      "MovieWriter ffmpeg unavailable; using Pillow instead.\n"
     ]
    },
    {
     "data": {
      "image/png": "[encoded data removed]",
      "text/plain": [
       "<Figure size 720x360 with 1 Axes>"
      ]
     },
     "metadata": {
      "needs_background": "light"
     },
     "output_type": "display_data"
    }
   ],
   "source": [
    "countries_plot = ['Spain', 'Italy', 'United States','Ireland','China']\n",
    "barchart_data  = gapminder.loc[gapminder['country'].isin(countries_plot), :]\n",
    "\n",
    "font = {\n",
    "    'weight': 'normal',\n",
    "    'size'  :  40,\n",
    "    'color': 'lightgray'\n",
    "}\n",
    "\n",
    "years = barchart_data['year'].unique()\n",
    "colors =['#FF0000','#169b62','#008c45','#aa151b','#002868']\n",
    "\n",
    "fig, ax = plt.subplots(figsize=(10, 5))\n",
    "label = ax.text(0.95, 0.2, years[0],\n",
    "            horizontalalignment='right',\n",
    "            verticalalignment='top',\n",
    "            transform=ax.transAxes,\n",
    "            fontdict=font)\n",
    "\n",
    "def update_barchart(i):\n",
    "  year = years[i]\n",
    "\n",
    "  data_temp = barchart_data.loc[barchart_data['year'] == year, :]\n",
    "  ax.clear()\n",
    "  ax.barh(data_temp.country,data_temp.gdpPercap, color = colors)\n",
    "  label.set_text(year)\n",
    "\n",
    "anim = animation.FuncAnimation(fig, update_barchart, frames = len(years))\n",
    "anim.save('barchart.gif')  "
   ]
  },
  {
   "cell_type": "code",
   "execution_count": null,
   "id": "2a469fe6",
   "metadata": {},
   "outputs": [],
   "source": []
  },
  {
   "cell_type": "code",
   "execution_count": null,
   "id": "53b414d6",
   "metadata": {},
   "outputs": [],
   "source": []
  },
  {
   "cell_type": "code",
   "execution_count": 12,
   "id": "88271286",
   "metadata": {},
   "outputs": [
    {
     "data": {
      "image/png": "[encoded data removed]",
      "text/plain": [
       "<Figure size 720x360 with 1 Axes>"
      ]
     },
     "metadata": {
      "needs_background": "light"
     },
     "output_type": "display_data"
    }
   ],
   "source": [
    "countries_plot = ['Spain', 'Italy', 'United States','Ireland','China']\n",
    "barchart_data  = gapminder.loc[gapminder['country'].isin(countries_plot), :]\n",
    "\n",
    "font = {\n",
    "    'weight': 'normal',\n",
    "    'size'  :  40,\n",
    "    'color': 'lightgray'\n",
    "}\n",
    "\n",
    "colors =['#FF0000','#169b62','#008c45','#aa151b','#002868']\n",
    "\n",
    "data_temp = barchart_data.loc[barchart_data['year'] == 2007, :]\n",
    "\n",
    "fig, ax = plt.subplots(figsize=(10, 5))\n",
    "ax.clear()\n",
    "ax.barh(data_temp.country,data_temp.gdpPercap, color = colors)\n",
    "\n",
    "ax.text(0.95, 0.2, data_temp['year'].iloc[0],\n",
    "        horizontalalignment='right',\n",
    "        verticalalignment='top',\n",
    "        transform=ax.transAxes,\n",
    "       fontdict=font)\n",
    "plt.show()"
   ]
  },
  {
   "cell_type": "code",
   "execution_count": 15,
   "id": "df564ca0",
   "metadata": {},
   "outputs": [
    {
     "name": "stderr",
     "output_type": "stream",
     "text": [
      "MovieWriter ffmpeg unavailable; using Pillow instead.\n"
     ]
    },
    {
     "data": {
      "image/png": "[encoded data removed]",
      "text/plain": [
       "<Figure size 720x360 with 1 Axes>"
      ]
     },
     "metadata": {
      "needs_background": "light"
     },
     "output_type": "display_data"
    }
   ],
   "source": [
    "countries_plot = ['Spain', 'Italy', 'United States','Ireland','China']\n",
    "barchart_data  = gapminder.loc[gapminder['country'].isin(countries_plot), :]\n",
    "\n",
    "font = {\n",
    "    'weight': 'normal',\n",
    "    'size'  :  40,\n",
    "    'color': 'lightgray'\n",
    "}\n",
    "\n",
    "years = barchart_data['year'].unique()\n",
    "colors =['#FF0000','#169b62','#008c45','#aa151b','#002868']\n",
    "\n",
    "fig, ax = plt.subplots(figsize=(10, 5))\n",
    "label = ax.text(0.95, 0.2, years[0],\n",
    "            horizontalalignment='right',\n",
    "            verticalalignment='top',\n",
    "            transform=ax.transAxes,\n",
    "            fontdict=font)\n",
    "\n",
    "def update_barchart(i):\n",
    "  year = years[i]\n",
    "\n",
    "  data_temp = barchart_data.loc[barchart_data['year'] == year, :]\n",
    "  ax.clear()\n",
    "  ax.barh(data_temp.country, data_temp.gdpPercap, color = colors)\n",
    "  label.set_text(year)\n",
    "\n",
    "anim = animation.FuncAnimation(fig, update_barchart, frames = len(years))\n",
    "anim.save('barchart.gif')"
   ]
  },
  {
   "cell_type": "code",
   "execution_count": 21,
   "id": "86576490",
   "metadata": {},
   "outputs": [
    {
     "data": {
      "image/png": "[encoded data removed]",
      "text/plain": [
       "<Figure size 720x360 with 1 Axes>"
      ]
     },
     "metadata": {
      "needs_background": "light"
     },
     "output_type": "display_data"
    }
   ],
   "source": [
    "import numpy as np\n",
    "import matplotlib\n",
    "\n",
    "fig, ax = plt.subplots(figsize=(10, 5))\n",
    "\n",
    "scatter_data = gapminder.copy()\n",
    "\n",
    "# Create a color depending on\n",
    "conditions = [\n",
    "  scatter_data.continent == 'Asia',\n",
    "  scatter_data.continent == 'Europe',\n",
    "  scatter_data.continent == 'Africa',\n",
    "  scatter_data.continent == 'Americas',\n",
    "  scatter_data.continent == 'Oceania',\n",
    "]\n",
    "\n",
    "values = list(range(5))\n",
    "\n",
    "scatter_data['color'] = np.select(conditions, values)\n",
    "\n",
    "\n",
    "font = {\n",
    "    'weight': 'normal',\n",
    "    'size'  :  40,\n",
    "    'color': 'lightgray'\n",
    "}\n",
    "\n",
    "years = scatter_data['year'].unique()\n",
    "\n",
    "data_temp = scatter_data.loc[scatter_data['year'] == years[-1], :]\n",
    "label = ax.text(0.95, 0.25, years[-1],\n",
    "            horizontalalignment='right',\n",
    "            verticalalignment='top',\n",
    "            transform=ax.transAxes,\n",
    "            fontdict=font)\n",
    "\n",
    "colors =[f'C{i}' for i in np.arange(1, 6)]\n",
    "cmap, norm = matplotlib.colors.from_levels_and_colors(np.arange(1, 5+2), colors)\n",
    "s\n",
    "scatter = ax.scatter(data_temp.gdpPercap,\n",
    "                     data_temp.lifeExp,\n",
    "                     s=data_temp['pop']/500000, \n",
    "                     alpha = 0.5, \n",
    "                     c=data_temp.color, \n",
    "                     cmap=cmap,\n",
    "                     norm=norm)\n",
    "label.set_text(years[-1])\n",
    "plt.show()"
   ]
  },
  {
   "cell_type": "code",
   "execution_count": null,
   "id": "11188189",
   "metadata": {},
   "outputs": [],
   "source": []
  },
  {
   "cell_type": "code",
   "execution_count": null,
   "id": "bd522023",
   "metadata": {},
   "outputs": [],
   "source": []
  },
  {
   "cell_type": "code",
   "execution_count": null,
   "id": "9a619da6",
   "metadata": {},
   "outputs": [],
   "source": []
  },
  {
   "cell_type": "code",
   "execution_count": null,
   "id": "48f6fc66",
   "metadata": {},
   "outputs": [],
   "source": []
  }
 ],
 "metadata": {
  "kernelspec": {
   "display_name": "Python 3 (ipykernel)",
   "language": "python",
   "name": "python3"
  },
  "language_info": {
   "codemirror_mode": {
    "name": "ipython",
    "version": 3
   },
   "file_extension": ".py",
   "mimetype": "text/x-python",
   "name": "python",
   "nbconvert_exporter": "python",
   "pygments_lexer": "ipython3",
   "version": "3.9.9"
  }
 },
 "nbformat": 4,
 "nbformat_minor": 5
}
