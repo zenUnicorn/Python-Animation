{
 "cells": [
  {
   "cell_type": "markdown",
   "id": "2d31580b",
   "metadata": {},
   "source": [
    "# Text Animation - Method I"
   ]
  },
  {
   "cell_type": "code",
   "execution_count": 3,
   "id": "758707be",
   "metadata": {},
   "outputs": [
    {
     "name": "stderr",
     "output_type": "stream",
     "text": [
      "MovieWriter ffmpeg unavailable; using Pillow instead.\n",
      "/var/folders/2r/k93hrhyd7b15wtqt79cqs0vr0000gn/T/ipykernel_3910/751676763.py:21: UserWarning: Tight layout not applied. The left and right margins cannot be made large enough to accommodate all axes decorations.\n",
      "  anim.save('text-anim.gif')\n",
      "/Library/Frameworks/Python.framework/Versions/3.9/lib/python3.9/site-packages/IPython/core/pylabtools.py:151: UserWarning: Tight layout not applied. The left and right margins cannot be made large enough to accommodate all axes decorations.\n",
      "  fig.canvas.print_figure(bytes_io, **kw)\n"
     ]
    },
    {
     "data": {
      "image/png": "[encoded data removed]",
      "text/plain": [
       "<Figure size 504x252 with 1 Axes>"
      ]
     },
     "metadata": {
      "needs_background": "light"
     },
     "output_type": "display_data"
    }
   ],
   "source": [
    "from matplotlib import animation\n",
    "import matplotlib.pyplot as plt\n",
    "\n",
    "plt.rcParams[\"figure.figsize\"] = [7.00, 3.50]\n",
    "plt.rcParams[\"figure.autolayout\"] = True\n",
    "\n",
    "fig = plt.figure()\n",
    "ax = fig.add_subplot(111)\n",
    "text = 'Python Text Animation'\n",
    "txt = ax.text(.20, .5, text, fontsize=15)\n",
    "\n",
    "colors = ['#1f77b4', '#ff7f0e', '#2ca02c', '#d62728', '#9467bd', '#8c564b', '#e377c2',    '#7f7f7f', '#bcbd22', '#17becf']\n",
    "\n",
    "\n",
    "def animate(num):\n",
    "   txt.set_fontsize(num * 2 + num)\n",
    "   txt.set_color(colors[num % len(colors)])\n",
    "   return txt,\n",
    "\n",
    "anim = animation.FuncAnimation(fig, animate, frames=len(text) - 1, blit=True)\n",
    "anim.save('text-anim.gif') \n",
    "plt.show()"
   ]
  },
  {
   "cell_type": "markdown",
   "id": "8255afbb",
   "metadata": {},
   "source": [
    "# Text Animation - Method II"
   ]
  },
  {
   "cell_type": "code",
   "execution_count": null,
   "id": "09c909e6",
   "metadata": {},
   "outputs": [],
   "source": [
    "import os\n",
    "import time\n",
    "\n",
    "\n",
    "def animate_text(text):\n",
    "  number_of_characters=1\n",
    "  while True:\n",
    "    print(\"\\n\")\n",
    "    print(text[0:number_of_characters])\n",
    "    number_of_characters += 1\n",
    "    if number_of_characters > len(text):\n",
    "      number_of_characters = 0\n",
    "    time.sleep(0.2)\n",
    "    os.system('clear')  \n",
    "  \n",
    "#Main Program Starts Here....\n",
    "animate_text(\"Hello World!\")  "
   ]
  },
  {
   "cell_type": "code",
   "execution_count": null,
   "id": "e3cd0f91",
   "metadata": {},
   "outputs": [],
   "source": []
  }
 ],
 "metadata": {
  "kernelspec": {
   "display_name": "Python 3 (ipykernel)",
   "language": "python",
   "name": "python3"
  },
  "language_info": {
   "codemirror_mode": {
    "name": "ipython",
    "version": 3
   },
   "file_extension": ".py",
   "mimetype": "text/x-python",
   "name": "python",
   "nbconvert_exporter": "python",
   "pygments_lexer": "ipython3",
   "version": "3.9.9"
  }
 },
 "nbformat": 4,
 "nbformat_minor": 5
}
